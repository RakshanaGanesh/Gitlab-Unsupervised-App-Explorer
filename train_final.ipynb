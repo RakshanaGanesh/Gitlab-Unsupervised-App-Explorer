{
 "cells": [
  {
   "cell_type": "code",
   "execution_count": 1,
   "metadata": {},
   "outputs": [],
   "source": [
    "import networkx as nx\n",
    "import pandas as pd\n",
    "import numpy as np\n",
    "from node2vec import Node2Vec\n",
    "import pickle\n",
    "import warnings\n",
    "warnings.filterwarnings(\"ignore\")"
   ]
  },
  {
   "cell_type": "code",
   "execution_count": 2,
   "metadata": {},
   "outputs": [],
   "source": [
    "file_path = \"playstore-analysis.csv\"  \n",
    "df = pd.read_csv(file_path)\n",
    "df.drop_duplicates(inplace=True)\n",
    "df['Rating'].fillna(0, inplace=True)\n",
    "df['Reviews'].fillna(0, inplace=True)\n",
    "df.dropna(inplace=True)"
   ]
  },
  {
   "cell_type": "code",
   "execution_count": 3,
   "metadata": {},
   "outputs": [],
   "source": [
    "for col in ['Installs', 'Price']:\n",
    "    df[col] = df[col].astype(str).str.replace(\"[+,\\$]\", \"\", regex=True)\n",
    "df[\"Installs\"] = pd.to_numeric(df[\"Installs\"], errors=\"coerce\")\n",
    "df[\"Reviews\"] = pd.to_numeric(df[\"Reviews\"], errors=\"coerce\")\n",
    "df[\"Price\"] = pd.to_numeric(df[\"Price\"], errors=\"coerce\")"
   ]
  },
  {
   "cell_type": "code",
   "execution_count": 4,
   "metadata": {},
   "outputs": [
    {
     "name": "stdout",
     "output_type": "stream",
     "text": [
      "Sampled data saved successfully!\n"
     ]
    }
   ],
   "source": [
    "df_sample = df.sample(n=500, random_state=42)\n",
    "df_sample.reset_index(drop=True, inplace=True)\n",
    "df_sample.to_csv(\"sampled_data.csv\", index=False)\n",
    "print(\"Sampled data saved successfully!\")"
   ]
  },
  {
   "cell_type": "code",
   "execution_count": 5,
   "metadata": {},
   "outputs": [],
   "source": [
    "similarity_measures = {\n",
    "    \"category_installs\":[\"Category\",\"Installs\"],\n",
    "    \"category_rating\": [\"Category\", \"Rating\"],\n",
    "    \"category_size\": [\"Category\", \"Size\"],\n",
    "    \"category_reviews\": [\"Category\", \"Reviews\"]\n",
    "}\n"
   ]
  },
  {
   "cell_type": "code",
   "execution_count": 6,
   "metadata": {},
   "outputs": [
    {
     "name": "stdout",
     "output_type": "stream",
     "text": [
      "Graph for category_installs created with 500 nodes and 19365 edges.\n"
     ]
    },
    {
     "data": {
      "application/vnd.jupyter.widget-view+json": {
       "model_id": "22a865d3fe9d41dc8c21bca61f86edb4",
       "version_major": 2,
       "version_minor": 0
      },
      "text/plain": [
       "Computing transition probabilities:   0%|          | 0/500 [00:00<?, ?it/s]"
      ]
     },
     "metadata": {},
     "output_type": "display_data"
    },
    {
     "name": "stdout",
     "output_type": "stream",
     "text": [
      "Model and graph for category_installs saved.\n",
      "Graph for category_rating created with 500 nodes and 17344 edges.\n"
     ]
    },
    {
     "data": {
      "application/vnd.jupyter.widget-view+json": {
       "model_id": "ffb6eebce6d24bf98712868780d68e10",
       "version_major": 2,
       "version_minor": 0
      },
      "text/plain": [
       "Computing transition probabilities:   0%|          | 0/500 [00:00<?, ?it/s]"
      ]
     },
     "metadata": {},
     "output_type": "display_data"
    },
    {
     "name": "stdout",
     "output_type": "stream",
     "text": [
      "Model and graph for category_rating saved.\n",
      "Graph for category_size created with 500 nodes and 12198 edges.\n"
     ]
    },
    {
     "data": {
      "application/vnd.jupyter.widget-view+json": {
       "model_id": "48d74f80434847ed82e7049a07a1c3a7",
       "version_major": 2,
       "version_minor": 0
      },
      "text/plain": [
       "Computing transition probabilities:   0%|          | 0/500 [00:00<?, ?it/s]"
      ]
     },
     "metadata": {},
     "output_type": "display_data"
    },
    {
     "name": "stdout",
     "output_type": "stream",
     "text": [
      "Model and graph for category_size saved.\n",
      "Graph for category_reviews created with 500 nodes and 9865 edges.\n"
     ]
    },
    {
     "data": {
      "application/vnd.jupyter.widget-view+json": {
       "model_id": "235dda10cb444a2d842613660b3a5535",
       "version_major": 2,
       "version_minor": 0
      },
      "text/plain": [
       "Computing transition probabilities:   0%|          | 0/500 [00:00<?, ?it/s]"
      ]
     },
     "metadata": {},
     "output_type": "display_data"
    },
    {
     "name": "stdout",
     "output_type": "stream",
     "text": [
      "Model and graph for category_reviews saved.\n"
     ]
    }
   ],
   "source": [
    "for model_name, features in similarity_measures.items():\n",
    "    G = nx.Graph()\n",
    "\n",
    "    for idx, row in df_sample.iterrows():\n",
    "        G.add_node(idx, name=row[\"App\"], category=row[\"Category\"], **{feat: row[feat] for feat in features})\n",
    "    for i in range(len(df_sample)):\n",
    "        for j in range(i + 1, len(df_sample)):\n",
    "            similarity_score = sum(\n",
    "                1 if df_sample.loc[i, feat] == df_sample.loc[j, feat] else 0 for feat in features\n",
    "            ) / len(features)\n",
    "\n",
    "            if similarity_score > 0.2:\n",
    "                G.add_edge(i, j, weight=similarity_score)\n",
    "\n",
    "    print(f\"Graph for {model_name} created with {len(G.nodes())} nodes and {len(G.edges())} edges.\")\n",
    "    node2vec = Node2Vec(G, dimensions=32, walk_length=10, num_walks=200, workers=4)\n",
    "    model = node2vec.fit(window=5, min_count=1, batch_words=4)\n",
    "    pickle.dump(model, open(f\"{model_name}.pkl\", \"wb\"))\n",
    "    nx.write_graphml(G, f\"{model_name}.graphml\")\n",
    "\n",
    "    print(f\"Model and graph for {model_name} saved.\")"
   ]
  },
  {
   "cell_type": "code",
   "execution_count": null,
   "metadata": {},
   "outputs": [
    {
     "name": "stdout",
     "output_type": "stream",
     "text": [
      "Graph for Combined Model created with 500 nodes and 3597 edges.\n"
     ]
    },
    {
     "data": {
      "application/vnd.jupyter.widget-view+json": {
       "model_id": "4938090794e54734b51c42f5ab1de47c",
       "version_major": 2,
       "version_minor": 0
      },
      "text/plain": [
       "Computing transition probabilities:   0%|          | 0/500 [00:00<?, ?it/s]"
      ]
     },
     "metadata": {},
     "output_type": "display_data"
    },
    {
     "name": "stdout",
     "output_type": "stream",
     "text": [
      "Combined model and graph saved successfully!\n"
     ]
    }
   ],
   "source": [
    "combined_features = [\"Category\",\"Installs\" ,\"Rating\", \"Size\", \"Reviews\"]\n",
    "\n",
    "\n",
    "G_combined = nx.Graph()\n",
    "for idx, row in df_sample.iterrows():\n",
    "    G_combined.add_node(idx, name=row[\"App\"], category=row[\"Category\"], \n",
    "                        **{feat: row[feat] for feat in combined_features})\n",
    "for i in range(len(df_sample)):\n",
    "    for j in range(i + 1, len(df_sample)):\n",
    "        similarity_score = sum(\n",
    "            1 if df_sample.loc[i, feat] == df_sample.loc[j, feat] else 0 for feat in combined_features\n",
    "        ) / len(combined_features)\n",
    "\n",
    "        if similarity_score > 0.2:  \n",
    "            G_combined.add_edge(i, j, weight=similarity_score)\n",
    "\n",
    "print(f\"Graph for Combined Model created with {len(G_combined.nodes())} nodes and {len(G_combined.edges())} edges.\")\n",
    "node2vec_combined = Node2Vec(G_combined, dimensions=32, walk_length=10, num_walks=200, workers=4)\n",
    "model_combined = node2vec_combined.fit(window=5, min_count=1, batch_words=4)\n",
    "pickle.dump(model_combined, open(\"Combined.pkl\", \"wb\"))\n",
    "nx.write_graphml(G_combined, \"Combined.graphml\")\n",
    "\n",
    "print(\"Combined model and graph saved successfully!\")"
   ]
  }
 ],
 "metadata": {
  "kernelspec": {
   "display_name": "Python 3",
   "language": "python",
   "name": "python3"
  },
  "language_info": {
   "codemirror_mode": {
    "name": "ipython",
    "version": 3
   },
   "file_extension": ".py",
   "mimetype": "text/x-python",
   "name": "python",
   "nbconvert_exporter": "python",
   "pygments_lexer": "ipython3",
   "version": "3.12.8"
  }
 },
 "nbformat": 4,
 "nbformat_minor": 2
}
